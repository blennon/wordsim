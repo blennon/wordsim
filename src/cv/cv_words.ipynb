{
 "metadata": {
  "name": "cv_words"
 },
 "nbformat": 3,
 "nbformat_minor": 0,
 "worksheets": [
  {
   "cells": [
    {
     "cell_type": "code",
     "collapsed": false,
     "input": [
      "from collections import Counter"
     ],
     "language": "python",
     "metadata": {},
     "outputs": [],
     "prompt_number": 2
    },
    {
     "cell_type": "code",
     "collapsed": false,
     "input": [
      "def read_wordlist(fname='/usr/share/dict/words'):\n",
      "    return [l.strip() for l in open(fname).readlines()]\n",
      "\n",
      "def extract_ngrams_from(word, n):\n",
      "    return [word[i:i+n] for i in range(len(word) - n+1)]\n",
      "\n",
      "def unique_ngrams(words, n):\n",
      "    ngrams = set()\n",
      "    for w in words:\n",
      "        ngrams.update(extract_ngrams_from(w, n))\n",
      "    return ngrams"
     ],
     "language": "python",
     "metadata": {},
     "outputs": [],
     "prompt_number": 3
    },
    {
     "cell_type": "code",
     "collapsed": false,
     "input": [
      "wordlist = [w.lower() for w in read_wordlist()]\n",
      "\n",
      "print 'summary statistics'\n",
      "print 'n number percent'\n",
      "for i in range(5):\n",
      "    n = len(unique_ngrams([w.lower() for w in wordlist], i+1))\n",
      "    print i+1, n, float(n)/(44**i+1)"
     ],
     "language": "python",
     "metadata": {},
     "outputs": [
      {
       "output_type": "stream",
       "stream": "stdout",
       "text": [
        "summary statistics\n",
        "n number percent\n",
        "1"
       ]
      },
      {
       "output_type": "stream",
       "stream": "stdout",
       "text": [
        " 44 22.0\n",
        "2"
       ]
      },
      {
       "output_type": "stream",
       "stream": "stdout",
       "text": [
        " 724 16.0888888889\n",
        "3"
       ]
      },
      {
       "output_type": "stream",
       "stream": "stdout",
       "text": [
        " 7308 3.77284460506\n",
        "4"
       ]
      },
      {
       "output_type": "stream",
       "stream": "stdout",
       "text": [
        " 35241 0.413699594999\n",
        "5"
       ]
      },
      {
       "output_type": "stream",
       "stream": "stdout",
       "text": [
        " 76972 0.0205362881484\n"
       ]
      }
     ],
     "prompt_number": 4
    },
    {
     "cell_type": "code",
     "collapsed": false,
     "input": [
      "def co_occur(ngrams,d):\n",
      "    occurs = Counter()\n",
      "    for i in range(len(ngrams)):\n",
      "        for j in range(1,d+1):\n",
      "            if i+j < len(ngrams):\n",
      "                occurs[(ngrams[i],ngrams[i+j])] += 1*(1./j)\n",
      "            if i-j>0:\n",
      "                occurs[(ngrams[i],ngrams[i-j])] += 1*(1./j)\n",
      "    return occurs"
     ],
     "language": "python",
     "metadata": {},
     "outputs": [],
     "prompt_number": 5
    },
    {
     "cell_type": "code",
     "collapsed": false,
     "input": [
      "#co_occurs = Counter()\n",
      "co_occurs = []\n",
      "for w in wordlist:\n",
      "    ngrams = extract_ngrams_from(w, 3)\n",
      "    #co_occurs += co_occur(ngrams,1)\n",
      "    co_occurs+=co_occur(ngrams,1).items()"
     ],
     "language": "python",
     "metadata": {},
     "outputs": [],
     "prompt_number": 10
    },
    {
     "cell_type": "code",
     "collapsed": false,
     "input": [
      "c = sorted(co_occurs)"
     ],
     "language": "python",
     "metadata": {},
     "outputs": [],
     "prompt_number": 14
    },
    {
     "cell_type": "code",
     "collapsed": false,
     "input": [
      "def reduce_occurs(co_occurs):\n",
      "    reduced_occurs = []\n",
      "    last = None\n",
      "    for co in co_occurs:\n",
      "        if co[0] == last:\n",
      "            val += co[1]\n",
      "        else:\n",
      "            if last is not None:\n",
      "                reduced_occurs.append((last,val))\n",
      "            last, val = co[0], 0\n",
      "    return reduced_occurs"
     ],
     "language": "python",
     "metadata": {},
     "outputs": [],
     "prompt_number": 23
    },
    {
     "cell_type": "code",
     "collapsed": false,
     "input": [
      "reduce_occurs([('a',1),('a',1),('b',2)])"
     ],
     "language": "python",
     "metadata": {},
     "outputs": [
      {
       "output_type": "pyout",
       "prompt_number": 24,
       "text": [
        "[('a', 1)]"
       ]
      }
     ],
     "prompt_number": 24
    },
    {
     "cell_type": "code",
     "collapsed": false,
     "input": [],
     "language": "python",
     "metadata": {},
     "outputs": []
    }
   ],
   "metadata": {}
  }
 ]
}